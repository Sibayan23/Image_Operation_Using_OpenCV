{
 "cells": [
  {
   "cell_type": "markdown",
   "metadata": {},
   "source": [
    "# TASK 4.1"
   ]
  },
  {
   "cell_type": "markdown",
   "metadata": {},
   "source": [
    " # Create image by yourself Using Python Code "
   ]
  },
  {
   "cell_type": "code",
   "execution_count": 1,
   "metadata": {},
   "outputs": [],
   "source": [
    "import cv2 \n",
    "import numpy as np"
   ]
  },
  {
   "cell_type": "code",
   "execution_count": 2,
   "metadata": {},
   "outputs": [],
   "source": [
    "# function to show picture\n",
    "def  picshow(photo):\n",
    "        cv2.imshow(\"my photo\", photo)\n",
    "        cv2.waitKey()\n",
    "        cv2.destroyAllWindows()"
   ]
  },
  {
   "cell_type": "code",
   "execution_count": 3,
   "metadata": {},
   "outputs": [],
   "source": [
    "# creating empty Frames\n",
    "frame = np.ones((400,500))"
   ]
  },
  {
   "cell_type": "code",
   "execution_count": 4,
   "metadata": {},
   "outputs": [],
   "source": [
    "picshow(frame)"
   ]
  },
  {
   "cell_type": "code",
   "execution_count": 5,
   "metadata": {},
   "outputs": [],
   "source": [
    "frame_test = frame.copy()\n",
    "head = cv2.circle(frame,center=(130,156),radius=50,thickness= -1,color=(0.4,1))\n",
    "eye = cv2.circle(frame,center=(100,156),radius=5,thickness=-1,color=(0,0,255))"
   ]
  },
  {
   "cell_type": "code",
   "execution_count": 6,
   "metadata": {},
   "outputs": [],
   "source": [
    "picshow(frame)"
   ]
  },
  {
   "cell_type": "code",
   "execution_count": 7,
   "metadata": {},
   "outputs": [],
   "source": [
    "image = cv2.ellipse(frame, center = (300, 180),axes = (120, 75),\n",
    "          angle = 0, startAngle = 0,endAngle = 360,color = (0, 0, 255), thickness = 5)\n",
    "\n",
    "image1 = cv2.ellipse(frame, center = (310, 180),axes = (60, 40),\n",
    "          angle = 0, startAngle = 0,endAngle = 360,color = (0, 255,0), thickness = -1)\n"
   ]
  },
  {
   "cell_type": "code",
   "execution_count": 8,
   "metadata": {},
   "outputs": [],
   "source": [
    "picshow(frame)"
   ]
  },
  {
   "cell_type": "code",
   "execution_count": 9,
   "metadata": {},
   "outputs": [],
   "source": [
    "pts = np.array([[85, 180], [80, 160], \n",
    "                [30, 180+30]],np.int32)\n",
    "  \n",
    "pts = pts.reshape((-1, 1, 2))\n",
    "isClosed = True\n",
    "color = (0, 0, 0)\n",
    "thickness = 2\n",
    "image = cv2.polylines(frame, [pts], \n",
    "                      isClosed, color, thickness)"
   ]
  },
  {
   "cell_type": "code",
   "execution_count": 10,
   "metadata": {},
   "outputs": [],
   "source": [
    "picshow(frame)"
   ]
  },
  {
   "cell_type": "code",
   "execution_count": 11,
   "metadata": {},
   "outputs": [],
   "source": [
    "pts1 = np.array([[250+20, 250], [180+40, 290], \n",
    "                [230+20, 310]],np.int32)\n",
    "  \n",
    "pts1 = pts1.reshape((-1, 1, 2))\n",
    "isClosed = True\n",
    "color = (0, 0, 0)\n",
    "thickness = 2\n",
    "image = cv2.polylines(frame, [pts1], \n",
    "                      isClosed, color, thickness)"
   ]
  },
  {
   "cell_type": "code",
   "execution_count": 12,
   "metadata": {},
   "outputs": [],
   "source": [
    "picshow(frame)"
   ]
  },
  {
   "cell_type": "code",
   "execution_count": 13,
   "metadata": {},
   "outputs": [],
   "source": [
    "X = 70\n",
    "pts2 = np.array([[250+X, 250], [300+X, 290], \n",
    "                [270+X, 310]],np.int32)\n",
    "\n",
    "pts2 = pts2.reshape((-1, 1, 2))\n",
    "isClosed = True\n",
    "color = (0, 0, 0)\n",
    "thickness = 2\n",
    "image = cv2.polylines(frame, [pts2], \n",
    "                      isClosed, color, thickness)"
   ]
  },
  {
   "cell_type": "code",
   "execution_count": 14,
   "metadata": {},
   "outputs": [],
   "source": [
    "picshow(frame)"
   ]
  },
  {
   "cell_type": "code",
   "execution_count": 15,
   "metadata": {},
   "outputs": [],
   "source": [
    "pts3 = np.array([[420, 180], [420+50, 200], \n",
    "                [420+50, 160]],np.int32)\n",
    "  \n",
    "pts3 = pts3.reshape((-1, 1, 2))\n",
    "isClosed = True\n",
    "color = (0, 0, 0)\n",
    "thickness = 2\n",
    "image = cv2.polylines(frame, [pts3], \n",
    "                      isClosed, color, thickness)"
   ]
  },
  {
   "cell_type": "code",
   "execution_count": 16,
   "metadata": {},
   "outputs": [],
   "source": [
    "picshow(frame)"
   ]
  },
  {
   "cell_type": "code",
   "execution_count": null,
   "metadata": {},
   "outputs": [],
   "source": []
  },
  {
   "cell_type": "markdown",
   "metadata": {},
   "source": [
    "# Task 4.1 Completed"
   ]
  }
 ],
 "metadata": {
  "kernelspec": {
   "display_name": "Python 3",
   "language": "python",
   "name": "python3"
  },
  "language_info": {
   "codemirror_mode": {
    "name": "ipython",
    "version": 3
   },
   "file_extension": ".py",
   "mimetype": "text/x-python",
   "name": "python",
   "nbconvert_exporter": "python",
   "pygments_lexer": "ipython3",
   "version": "3.8.3"
  }
 },
 "nbformat": 4,
 "nbformat_minor": 4
}
